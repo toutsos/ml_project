{
  "cells": [
    {
      "cell_type": "markdown",
      "source": [
        "## Data Exploration"
      ],
      "metadata": {
        "id": "XmazoYGVpuFN"
      },
      "id": "XmazoYGVpuFN"
    },
    {
      "cell_type": "markdown",
      "source": [
        "### Where Data come from?"
      ],
      "metadata": {
        "id": "yju0AYWLq98e"
      },
      "id": "yju0AYWLq98e"
    },
    {
      "cell_type": "markdown",
      "source": [
        "### What is the data about?\n"
      ],
      "metadata": {
        "id": "O3EkolforPuU"
      },
      "id": "O3EkolforPuU"
    },
    {
      "cell_type": "markdown",
      "source": [
        "### When it was collected, and over what time period"
      ],
      "metadata": {
        "id": "MaTyPWovrPgo"
      },
      "id": "MaTyPWovrPgo"
    },
    {
      "cell_type": "markdown",
      "source": [
        "### How many rows and columns"
      ],
      "metadata": {
        "id": "InlzzRL7rPpB"
      },
      "id": "InlzzRL7rPpB"
    },
    {
      "cell_type": "markdown",
      "source": [
        "### What are the types of the columns"
      ],
      "metadata": {
        "id": "T26mcBHxrPw8"
      },
      "id": "T26mcBHxrPw8"
    },
    {
      "cell_type": "markdown",
      "source": [
        "###  Some basic statistics and plots\n",
        "     a. Plot / Pie with Major distribution\n",
        "     b. Plot with race distribution\n",
        "     c. Plot with work_exp\n",
        "     d. Plot / Pie with work industry\n",
        "     e. more??\n"
      ],
      "metadata": {
        "id": "SyE3yHC2rPrp"
      },
      "id": "SyE3yHC2rPrp"
    },
    {
      "cell_type": "code",
      "source": [
        "# Load data\n",
        "\n",
        "import numpy as np\n",
        "import matplotlib.pyplot as plt\n",
        "import pandas as pd\n",
        "import numpy as np\n",
        "from sklearn import preprocessing\n",
        "%matplotlib inline\n",
        "\n",
        "url = 'https://raw.githubusercontent.com/toutsos/ml_project/refs/heads/main/MBA.csv'\n",
        "df=pd.read_csv(url)\n",
        "# print(df.head())"
      ],
      "metadata": {
        "id": "mc8i9v7Et2wj"
      },
      "id": "mc8i9v7Et2wj",
      "execution_count": null,
      "outputs": []
    },
    {
      "cell_type": "markdown",
      "source": [
        "## Data Cleaning"
      ],
      "metadata": {
        "id": "UQsObUqxrPzX"
      },
      "id": "UQsObUqxrPzX"
    },
    {
      "cell_type": "markdown",
      "source": [
        "### How much missing data"
      ],
      "metadata": {
        "id": "_eSwu5zsrP35"
      },
      "id": "_eSwu5zsrP35"
    },
    {
      "cell_type": "markdown",
      "source": [
        "### What's the form of missing data?"
      ],
      "metadata": {
        "id": "lMflRpiNrP8j"
      },
      "id": "lMflRpiNrP8j"
    },
    {
      "cell_type": "markdown",
      "source": [
        "### Where's the missing data?\n"
      ],
      "metadata": {
        "id": "X5djfHAlr-Vm"
      },
      "id": "X5djfHAlr-Vm"
    },
    {
      "cell_type": "markdown",
      "source": [
        "### What was done about the missing data?"
      ],
      "metadata": {
        "id": "68z_NEXrr-Xq"
      },
      "id": "68z_NEXrr-Xq"
    },
    {
      "cell_type": "markdown",
      "source": [
        "## Data exploration and visualization"
      ],
      "metadata": {
        "id": "_90hiqbar-Z_"
      },
      "id": "_90hiqbar-Z_"
    },
    {
      "cell_type": "markdown",
      "source": [
        "### Various plots that are appropiate for the data."
      ],
      "metadata": {
        "id": "i2sKm0Xdr-cM"
      },
      "id": "i2sKm0Xdr-cM"
    },
    {
      "cell_type": "markdown",
      "source": [
        "### For every plot, the question that motivated it and what you learned from it."
      ],
      "metadata": {
        "id": "7zwtjBz3r-ex"
      },
      "id": "7zwtjBz3r-ex"
    },
    {
      "cell_type": "markdown",
      "source": [
        "## Propose ML approach"
      ],
      "metadata": {
        "id": "_BDK_Ex6sM1W"
      },
      "id": "_BDK_Ex6sM1W"
    },
    {
      "cell_type": "markdown",
      "source": [
        "### Why specific algorithm/s?"
      ],
      "metadata": {
        "id": "6hBO_GIWsM3m"
      },
      "id": "6hBO_GIWsM3m"
    },
    {
      "cell_type": "markdown",
      "source": [
        "### Is there something about the data that has driven that decision?"
      ],
      "metadata": {
        "id": "sS-6gyYIsM59"
      },
      "id": "sS-6gyYIsM59"
    },
    {
      "cell_type": "markdown",
      "source": [
        "\n",
        "### Use at least 2 algorithms per person with solid alalysis of hyperparameters."
      ],
      "metadata": {
        "id": "6UFbD-vmsM8O"
      },
      "id": "6UFbD-vmsM8O"
    },
    {
      "cell_type": "markdown",
      "source": [
        "## Evaluate Performance"
      ],
      "metadata": {
        "id": "BrteDs58sM-Y"
      },
      "id": "BrteDs58sM-Y"
    },
    {
      "cell_type": "markdown",
      "source": [
        "### Why specific metric?"
      ],
      "metadata": {
        "id": "tkgfaDqgsNAp"
      },
      "id": "tkgfaDqgsNAp"
    },
    {
      "cell_type": "markdown",
      "source": [
        "### Are there alternatives?"
      ],
      "metadata": {
        "id": "amsiCUwNsNCr"
      },
      "id": "amsiCUwNsNCr"
    },
    {
      "cell_type": "markdown",
      "source": [
        "### Use at least 2 metrics with solid explanation and performance under that metric."
      ],
      "metadata": {
        "id": "Zzq26vUmsNE7"
      },
      "id": "Zzq26vUmsNE7"
    },
    {
      "cell_type": "markdown",
      "source": [
        "## Present Results."
      ],
      "metadata": {
        "id": "vIMSzEmRszgb"
      },
      "id": "vIMSzEmRszgb"
    },
    {
      "cell_type": "markdown",
      "source": [
        "### Visualize the results."
      ],
      "metadata": {
        "id": "c_Twdv0wsziw"
      },
      "id": "c_Twdv0wsziw"
    },
    {
      "cell_type": "markdown",
      "source": [
        "### Explain plots and results carefully."
      ],
      "metadata": {
        "id": "pENb-aXCszlM"
      },
      "id": "pENb-aXCszlM"
    },
    {
      "cell_type": "markdown",
      "source": [
        "### Provide evidence of the results supporting or not supporting the goal."
      ],
      "metadata": {
        "id": "jlJCqk53sznb"
      },
      "id": "jlJCqk53sznb"
    },
    {
      "cell_type": "markdown",
      "source": [
        "### Touth on all components in the data science process."
      ],
      "metadata": {
        "id": "pTGPw3zOszpu"
      },
      "id": "pTGPw3zOszpu"
    },
    {
      "cell_type": "markdown",
      "source": [
        "### Did we achieve our goal?"
      ],
      "metadata": {
        "id": "GTCHJP6zszr2"
      },
      "id": "GTCHJP6zszr2"
    },
    {
      "cell_type": "markdown",
      "source": [
        "### What we could have done better?"
      ],
      "metadata": {
        "id": "raa8AVveszuG"
      },
      "id": "raa8AVveszuG"
    },
    {
      "cell_type": "markdown",
      "source": [
        "### What else could we do?"
      ],
      "metadata": {
        "id": "iFtSAqK8szwH"
      },
      "id": "iFtSAqK8szwH"
    },
    {
      "cell_type": "markdown",
      "source": [
        "### What would be most impactful next step and why?"
      ],
      "metadata": {
        "id": "h3D8CwTXszyY"
      },
      "id": "h3D8CwTXszyY"
    },
    {
      "cell_type": "markdown",
      "source": [
        "## Final Report."
      ],
      "metadata": {
        "id": "2PUXG_nksz0i"
      },
      "id": "2PUXG_nksz0i"
    },
    {
      "cell_type": "markdown",
      "source": [
        "### Turn in code and report document (word/pdf)."
      ],
      "metadata": {
        "id": "1STErv-msz27"
      },
      "id": "1STErv-msz27"
    },
    {
      "cell_type": "markdown",
      "source": [
        "### Each people should highlight its contribution."
      ],
      "metadata": {
        "id": "WDI-PUQVsz5P"
      },
      "id": "WDI-PUQVsz5P"
    }
  ],
  "metadata": {
    "kaggle": {
      "accelerator": "none",
      "dataSources": [
        {
          "datasetId": 5719862,
          "sourceId": 9425404,
          "sourceType": "datasetVersion"
        }
      ],
      "dockerImageVersionId": 30786,
      "isGpuEnabled": false,
      "isInternetEnabled": false,
      "language": "python",
      "sourceType": "notebook"
    },
    "kernelspec": {
      "display_name": "Python 3",
      "language": "python",
      "name": "python3"
    },
    "language_info": {
      "codemirror_mode": {
        "name": "ipython",
        "version": 3
      },
      "file_extension": ".py",
      "mimetype": "text/x-python",
      "name": "python",
      "nbconvert_exporter": "python",
      "pygments_lexer": "ipython3",
      "version": "3.10.14"
    },
    "papermill": {
      "default_parameters": {},
      "duration": 4.988456,
      "end_time": "2024-10-23T01:44:36.048494",
      "environment_variables": {},
      "exception": null,
      "input_path": "__notebook__.ipynb",
      "output_path": "__notebook__.ipynb",
      "parameters": {},
      "start_time": "2024-10-23T01:44:31.060038",
      "version": "2.6.0"
    },
    "colab": {
      "provenance": [],
      "toc_visible": true
    }
  },
  "nbformat": 4,
  "nbformat_minor": 5
}