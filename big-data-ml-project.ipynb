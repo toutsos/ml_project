{
  "cells": [
    {
      "cell_type": "code",
      "execution_count": null,
      "id": "5514dab5",
      "metadata": {
        "execution": {
          "iopub.execute_input": "2024-10-23T01:44:33.604747Z",
          "iopub.status.busy": "2024-10-23T01:44:33.603898Z",
          "iopub.status.idle": "2024-10-23T01:44:33.610366Z",
          "shell.execute_reply": "2024-10-23T01:44:33.609550Z"
        },
        "papermill": {
          "duration": 0.01223,
          "end_time": "2024-10-23T01:44:33.612366",
          "exception": false,
          "start_time": "2024-10-23T01:44:33.600136",
          "status": "completed"
        },
        "tags": [],
        "id": "5514dab5"
      },
      "outputs": [],
      "source": [
        "\n",
        "# Project Requirements & Ideas\n",
        "\n",
        "# test\n",
        "\n",
        "# 1. Initial Data Exploration\n",
        "#   - Where the dataset come from?\n",
        "#   - What is the data about?\n",
        "#   - When it was collected, and over what time period\n",
        "#   - How many rows and columns\n",
        "#   - What are the types of the columns\n",
        "#   - Some basic statistics and plots\n",
        "#     a. Plot / Pie with Major distribution\n",
        "#     b. Plot with race distribution\n",
        "#     c. Plot with work_exp\n",
        "#     d. Plot / Pie with work industry\n",
        "#     e. more??\n",
        "\n",
        "# 2. Data Cleaning\n",
        "#   - How much missing data\n",
        "#   - what's the form of missing data?\n",
        "#   - where's the missing data?\n",
        "#   - what was done about the missing data?\n",
        "\n",
        "# 3. Data exploration and visualization\n",
        "#   - various plots that are appropiate for the data.\n",
        "#   1. ???\n",
        "#   - For every plot, the question that motivated it and what you learned from it.\n",
        "\n",
        "# 4. Propose ML approach\n",
        "#   - Why specific algorithm/s?\n",
        "#   - Is there something about the data that has driven that decision?\n",
        "#   - Use at least 2 algorithms per person with solid alalysis of hyperparameters.\n",
        "\n",
        "# 5. Evaluate Performance\n",
        "#   - Why specific metric?\n",
        "#   - Are there alternatives?\n",
        "#   - Use at least 2 metrics with solid explanation and performance under that metric.\n",
        "\n",
        "# 6. Present Results.\n",
        "#   - Visualize the results.\n",
        "#   - Explain plots and results carefully.\n",
        "#   - Provide evidence of the results supporting or not supporting the goal.\n",
        "#   - Touth on all components in the data science process.\n",
        "#   - Did we achieve our goal?\n",
        "#   - What we could have done better?\n",
        "#   - What else could we do?\n",
        "#   - What would be most impactful next step and why?\n",
        "\n",
        "# 7. Final Report.\n",
        "#   - Turn in code and report document (word/pdf).\n",
        "#   - Prepare the presentation in PowerPoint.\n",
        "#   - Each people should highlight its contribution.\n"
      ]
    },
    {
      "cell_type": "code",
      "execution_count": null,
      "id": "269cf350",
      "metadata": {
        "execution": {
          "iopub.execute_input": "2024-10-23T01:44:33.617427Z",
          "iopub.status.busy": "2024-10-23T01:44:33.616642Z",
          "iopub.status.idle": "2024-10-23T01:44:35.524104Z",
          "shell.execute_reply": "2024-10-23T01:44:35.522581Z"
        },
        "papermill": {
          "duration": 1.913187,
          "end_time": "2024-10-23T01:44:35.527422",
          "exception": false,
          "start_time": "2024-10-23T01:44:33.614235",
          "status": "completed"
        },
        "tags": [],
        "id": "269cf350",
        "outputId": "362a19d9-bb62-4372-8460-52c87a8aa817"
      },
      "outputs": [
        {
          "name": "stdout",
          "output_type": "stream",
          "text": [
            "   application_id  gender  international   gpa       major      race   gmat  \\\n",
            "0               1  Female          False  3.30    Business     Asian  620.0   \n",
            "1               2    Male          False  3.28  Humanities     Black  680.0   \n",
            "2               3  Female           True  3.30    Business       NaN  710.0   \n",
            "3               4    Male          False  3.47        STEM     Black  690.0   \n",
            "4               5    Male          False  3.35        STEM  Hispanic  590.0   \n",
            "\n",
            "   work_exp          work_industry admission  \n",
            "0       3.0     Financial Services     Admit  \n",
            "1       5.0  Investment Management       NaN  \n",
            "2       5.0             Technology     Admit  \n",
            "3       6.0             Technology       NaN  \n",
            "4       5.0             Consulting       NaN  \n"
          ]
        }
      ],
      "source": [
        "import numpy as np\n",
        "import matplotlib.pyplot as plt\n",
        "import pandas as pd\n",
        "import numpy as np\n",
        "from sklearn import preprocessing\n",
        "%matplotlib inline\n",
        "\n",
        "df=pd.read_csv('/kaggle/input/mba-admission-dataset/MBA.csv')\n",
        "print(df.head())"
      ]
    }
  ],
  "metadata": {
    "kaggle": {
      "accelerator": "none",
      "dataSources": [
        {
          "datasetId": 5719862,
          "sourceId": 9425404,
          "sourceType": "datasetVersion"
        }
      ],
      "dockerImageVersionId": 30786,
      "isGpuEnabled": false,
      "isInternetEnabled": false,
      "language": "python",
      "sourceType": "notebook"
    },
    "kernelspec": {
      "display_name": "Python 3",
      "language": "python",
      "name": "python3"
    },
    "language_info": {
      "codemirror_mode": {
        "name": "ipython",
        "version": 3
      },
      "file_extension": ".py",
      "mimetype": "text/x-python",
      "name": "python",
      "nbconvert_exporter": "python",
      "pygments_lexer": "ipython3",
      "version": "3.10.14"
    },
    "papermill": {
      "default_parameters": {},
      "duration": 4.988456,
      "end_time": "2024-10-23T01:44:36.048494",
      "environment_variables": {},
      "exception": null,
      "input_path": "__notebook__.ipynb",
      "output_path": "__notebook__.ipynb",
      "parameters": {},
      "start_time": "2024-10-23T01:44:31.060038",
      "version": "2.6.0"
    },
    "colab": {
      "provenance": []
    }
  },
  "nbformat": 4,
  "nbformat_minor": 5
}